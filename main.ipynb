{
 "cells": [
  {
   "cell_type": "code",
   "execution_count": 18,
   "id": "68a6c867",
   "metadata": {},
   "outputs": [],
   "source": [
    "import os\n",
    "import json\n",
    "import pandas as pd\n",
    "from sklearn.model_selection import train_test_split\n",
    "from sklearn.feature_extraction.text import CountVectorizer, TfidfVectorizer\n",
    "from sklearn.metrics import f1_score\n",
    "root = os.getcwd()+ '//'"
   ]
  },
  {
   "cell_type": "code",
   "execution_count": 19,
   "id": "a0270a87",
   "metadata": {},
   "outputs": [],
   "source": [
    "def get_sentiment(arg):\n",
    "    if arg <= 2:\n",
    "        return 'NEGATIVE'\n",
    "    elif arg == 3:\n",
    "        return 'NEUTRAL'\n",
    "    else:  # Amazon review is a 4 or 5\n",
    "        return 'POSITIVE'"
   ]
  },
  {
   "cell_type": "code",
   "execution_count": 20,
   "id": "cfd652ce",
   "metadata": {},
   "outputs": [
    {
     "name": "stderr",
     "output_type": "stream",
     "text": [
      "/opt/anaconda3/lib/python3.9/site-packages/sklearn/linear_model/_logistic.py:763: ConvergenceWarning: lbfgs failed to converge (status=1):\n",
      "STOP: TOTAL NO. of ITERATIONS REACHED LIMIT.\n",
      "\n",
      "Increase the number of iterations (max_iter) or scale the data as shown in:\n",
      "    https://scikit-learn.org/stable/modules/preprocessing.html\n",
      "Please also refer to the documentation for alternative solver options:\n",
      "    https://scikit-learn.org/stable/modules/linear_model.html#logistic-regression\n",
      "  n_iter_i = _check_optimize_result(\n"
     ]
    },
    {
     "data": {
      "text/plain": [
       "array(['POSITIVE'], dtype=object)"
      ]
     },
     "execution_count": 20,
     "metadata": {},
     "output_type": "execute_result"
    }
   ],
   "source": [
    "df = pd.read_excel('reviews_kindle.xlsx')\n",
    "df[\"sentiment\"] = df[\"overall\"].apply(lambda x: get_sentiment(x))\n",
    "df = df.drop(['overall'], axis=1)\n",
    "#print(df.head(7))\n",
    "\n",
    "# split the data set into 2 parts -> one for training, the other for testing\n",
    "from sklearn.model_selection import train_test_split\n",
    "train, test = train_test_split(df, test_size=0.2, random_state=0)\n",
    "\n",
    "train_x = train['reviewText']\n",
    "train_y = train['sentiment']\n",
    "test_x = test['reviewText']\n",
    "test_y = test['sentiment']\n",
    "\n",
    "# turn textual data into BOWs (bag of words), so as to categorize natural languages in a quantitative way\n",
    "from sklearn.feature_extraction.text import CountVectorizer\n",
    "vectorizer = CountVectorizer()\n",
    "train_x_vectors = vectorizer.fit_transform(train_x)\n",
    "\n",
    "test_x_vectors = vectorizer.transform(test_x)\n",
    "\n",
    "from sklearn.linear_model import LogisticRegression\n",
    "model = LogisticRegression()\n",
    "model.fit(train_x_vectors, train_y)\n",
    "\n",
    "model.predict(test_x_vectors[1])"
   ]
  },
  {
   "cell_type": "code",
   "execution_count": 21,
   "id": "77ad1d52",
   "metadata": {},
   "outputs": [
    {
     "name": "stdout",
     "output_type": "stream",
     "text": [
      "0.8445\n"
     ]
    }
   ],
   "source": [
    "# to tell the accuracy of the model in the testing dataset\n",
    "print(model.score(test_x_vectors, test_y))"
   ]
  },
  {
   "cell_type": "code",
   "execution_count": 26,
   "id": "8cb0055b",
   "metadata": {},
   "outputs": [
    {
     "data": {
      "text/plain": [
       "array(['POSITIVE', 'POSITIVE', 'NEGATIVE', 'POSITIVE'], dtype=object)"
      ]
     },
     "execution_count": 26,
     "metadata": {},
     "output_type": "execute_result"
    }
   ],
   "source": [
    "# test the predictive emotions of each customer review\n",
    "test_set = ['very fun', \"bad book do not buy\", 'horrible waste of time', 'it is very bad']\n",
    "new_test = vectorizer.transform(test_set)\n",
    "\n",
    "model.predict(new_test)"
   ]
  },
  {
   "cell_type": "code",
   "execution_count": null,
   "id": "011b5ca5",
   "metadata": {},
   "outputs": [],
   "source": []
  }
 ],
 "metadata": {
  "kernelspec": {
   "display_name": "Python 3 (ipykernel)",
   "language": "python",
   "name": "python3"
  },
  "language_info": {
   "codemirror_mode": {
    "name": "ipython",
    "version": 3
   },
   "file_extension": ".py",
   "mimetype": "text/x-python",
   "name": "python",
   "nbconvert_exporter": "python",
   "pygments_lexer": "ipython3",
   "version": "3.9.7"
  }
 },
 "nbformat": 4,
 "nbformat_minor": 5
}
